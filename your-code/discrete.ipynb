{
  "nbformat": 4,
  "nbformat_minor": 0,
  "metadata": {
    "kernelspec": {
      "display_name": "Python 3",
      "language": "python",
      "name": "python3"
    },
    "language_info": {
      "codemirror_mode": {
        "name": "ipython",
        "version": 3
      },
      "file_extension": ".py",
      "mimetype": "text/x-python",
      "name": "python",
      "nbconvert_exporter": "python",
      "pygments_lexer": "ipython3",
      "version": "3.9.0"
    },
    "colab": {
      "name": "discrete.ipynb",
      "provenance": [],
      "collapsed_sections": []
    }
  },
  "cells": [
    {
      "cell_type": "code",
      "metadata": {
        "id": "iRhJ2zAcF769"
      },
      "source": [
        "from scipy.stats import binom\r\n",
        "from scipy.stats import poisson\r\n",
        "import matplotlib.pyplot as plt\r\n",
        "import numpy as np\r\n",
        "import math"
      ],
      "execution_count": null,
      "outputs": []
    },
    {
      "cell_type": "markdown",
      "metadata": {
        "id": "UcD4PXGJFLyh"
      },
      "source": [
        "# Before your start:\n",
        "\n",
        "    Read the README.md file\n",
        "    Comment as much as you can and use the resources (README.md file)\n",
        "    Happy learning!\n",
        "\n",
        "*Notes:* \n",
        "\n",
        "- Solve the questions with python.\n",
        "\n",
        "- Round the final answer to three decimal places."
      ]
    },
    {
      "cell_type": "markdown",
      "metadata": {
        "id": "Xoc4rY9XFLyo"
      },
      "source": [
        "## Bernoulli's Distribution\n",
        "\n",
        "In a basket containing 100 fruits, there are 60 apples and 40 oranges. \n",
        "\n",
        "A fruit is picked randomly from the basket. \n",
        "\n",
        "1. **What is the probability that the fruit is apple?**\n",
        "1. **What is the probability that it is an orange?**"
      ]
    },
    {
      "cell_type": "code",
      "metadata": {
        "id": "xnCdaTnmFLyp"
      },
      "source": [
        "\"\"\"\n",
        "Calculate:\n",
        "p = probability that the fruit is an apple \n",
        "q = probability that the fruit is an orange\n",
        "\"\"\"\n",
        "# your code here\n",
        "n = 100\n",
        "p = 60/n\n",
        "q = 40/n"
      ],
      "execution_count": null,
      "outputs": []
    },
    {
      "cell_type": "markdown",
      "metadata": {
        "id": "MzvMcptGFLyq"
      },
      "source": [
        "Now we take a random sample of 20 fruits from the basket. After each fruit is taken, a new fruit of the same type is replaced in the basket. Therefore, every time we are taking 1 fruit from 100 fruits. \n",
        "\n",
        "1. **What is the probability that the first 5 fruits are all apples?**\n",
        "\n",
        "1. **What is the probability that the first 5 fruits are all apples and the next 15 fruits are all oranges?**\n",
        "\n",
        "You can include the `p` and `q` probabilities you previous calculated in your solution."
      ]
    },
    {
      "cell_type": "code",
      "metadata": {
        "id": "7L_yz7SyFLyq",
        "colab": {
          "base_uri": "https://localhost:8080/"
        },
        "outputId": "d34caa4f-c967-4654-c808-3954faf87605"
      },
      "source": [
        "# your code here\n",
        "print(p**5)\n",
        "print((p**5)*(q**15))"
      ],
      "execution_count": null,
      "outputs": [
        {
          "output_type": "stream",
          "text": [
            "0.07775999999999998\n",
            "8.349416423424006e-08\n"
          ],
          "name": "stdout"
        }
      ]
    },
    {
      "cell_type": "markdown",
      "metadata": {
        "id": "Wc6qCgBjFLyq"
      },
      "source": [
        "## Binomial Distribution\n",
        "\n",
        "Similar to the above problem, this time again we randomly sample 20 fruits.\n",
        "\n",
        "**What is the probability that this time the sample contains 5 apples and 15 oranges?**\n",
        "\n",
        "Please note that this time the order of the fruits being picked does not matter."
      ]
    },
    {
      "cell_type": "code",
      "metadata": {
        "id": "id7cHe-2FLyr",
        "colab": {
          "base_uri": "https://localhost:8080/"
        },
        "outputId": "84cdbc3c-7c18-4165-bc2a-8510a0259390"
      },
      "source": [
        "# your code here\n",
        "'''\n",
        "20()5 * 0,6^5 * (1 - 0,6)^(20 - 5)\n",
        "'''\n",
        "binom.pmf(5,20,p)"
      ],
      "execution_count": null,
      "outputs": [
        {
          "output_type": "execute_result",
          "data": {
            "text/plain": [
              "0.0012944935222876511"
            ]
          },
          "metadata": {
            "tags": []
          },
          "execution_count": 18
        }
      ]
    },
    {
      "cell_type": "markdown",
      "metadata": {
        "id": "HOsgRe-kFLyr"
      },
      "source": [
        "In the lesson we also discussed CDF (cumulative distribution function). In the context of the above problem, **what is the probability that less than 5 fruits picked are apples?**\n",
        "\n",
        "Write the formula and calculate the probability below."
      ]
    },
    {
      "cell_type": "code",
      "metadata": {
        "id": "qYcQmRBnFLyr",
        "colab": {
          "base_uri": "https://localhost:8080/"
        },
        "outputId": "cb2e8fb2-670b-46b4-8fbe-3f4675b87462"
      },
      "source": [
        "# your code here\n",
        "'''\n",
        "20()0 * 0,6^0 * (1 - 0,6)^(20 - 0) +\n",
        "20()1 * 0,6^1 * (1 - 0,6)^(20 - 1) +\n",
        "20()2 * 0,6^2 * (1 - 0,6)^(20 - 2) +\n",
        "20()3 * 0,6^3 * (1 - 0,6)^(20 - 3) +\n",
        "20()4 * 0,6^4 * (1 - 0,6)^(20 - 4) +\n",
        "'''\n",
        "binom.cdf(4,20,p)"
      ],
      "execution_count": null,
      "outputs": [
        {
          "output_type": "execute_result",
          "data": {
            "text/plain": [
              "0.0003170311211686301"
            ]
          },
          "metadata": {
            "tags": []
          },
          "execution_count": 19
        }
      ]
    },
    {
      "cell_type": "markdown",
      "metadata": {
        "id": "9stCi6hLFLys"
      },
      "source": [
        "**Plot the PDF (probability distribution function) for the above binomial distribution.**\n",
        "\n",
        "*Hint: The range of x in a binomial distribution is from `0` to `n`.*"
      ]
    },
    {
      "cell_type": "code",
      "metadata": {
        "id": "hxBmk8i7FLys",
        "colab": {
          "base_uri": "https://localhost:8080/",
          "height": 296
        },
        "outputId": "3b3d9829-4975-4e5a-8be3-60b41942070c"
      },
      "source": [
        "# your code here\n",
        "x = np.arange(0,20)\n",
        "# list of pmf values \n",
        "# Please label the axes and give a title to the plot\n",
        "fig, ax = plt.subplots(1, 1)\n",
        "ax.plot(x, binom.pmf(x, 20, p))\n",
        "ax.vlines(x, 0, binom.pmf(x, 20, p))\n",
        "plt.xlabel('Number of Apples in Sample')\n",
        "plt.ylabel('Probability') \n"
      ],
      "execution_count": null,
      "outputs": [
        {
          "output_type": "execute_result",
          "data": {
            "text/plain": [
              "Text(0, 0.5, 'Probability')"
            ]
          },
          "metadata": {
            "tags": []
          },
          "execution_count": 54
        },
        {
          "output_type": "display_data",
          "data": {
            "image/png": "[encoded data removed]",
            "text/plain": [
              "<Figure size 432x288 with 1 Axes>"
            ]
          },
          "metadata": {
            "tags": [],
            "needs_background": "light"
          }
        }
      ]
    },
    {
      "cell_type": "markdown",
      "metadata": {
        "id": "CfO59-p2FLys"
      },
      "source": [
        "## Poisson Distribution\n",
        "\n",
        "In this challenge you are required to use the Math library in python to solve the problems.\n",
        "\n",
        "In the UEFA champions league tournament, the average number of goals scored in a match is 2.3. \n",
        "\n",
        "**What is the probability that the number of goals scored in a match is 5?**\n",
        "\n",
        "*Hint: Use the exp() in the math library*\n",
        "\n",
        "And to calculate the factorial, you can use the following code:\n",
        "\n",
        "```python\n",
        "import math\n",
        "math.factorial(n) # n is the number you want to find the factorial of\n",
        "```"
      ]
    },
    {
      "cell_type": "code",
      "metadata": {
        "id": "rhZsSrMcFLys",
        "colab": {
          "base_uri": "https://localhost:8080/"
        },
        "outputId": "7d19e7ed-647e-46f1-bdc6-f0b517d674f0"
      },
      "source": [
        "# your code here\n",
        "p_5 = ((2.3**5) * math.exp(-2.3))/math.factorial(5)\n",
        "print(p_5)\n",
        "# or ...\n",
        "print(poisson.pmf(5,2.3))"
      ],
      "execution_count": null,
      "outputs": [
        {
          "output_type": "stream",
          "text": [
            "0.0537750255819468\n",
            "0.053775025581946814\n"
          ],
          "name": "stdout"
        }
      ]
    },
    {
      "cell_type": "markdown",
      "metadata": {
        "id": "Xg1kkEdHFLyt"
      },
      "source": [
        "**Draw a poisson probability distribution plot for the number of goals to be between 0 to 10.**"
      ]
    },
    {
      "cell_type": "code",
      "metadata": {
        "id": "NxT5yDhzFLyt",
        "colab": {
          "base_uri": "https://localhost:8080/",
          "height": 296
        },
        "outputId": "c1777b7e-ed7d-4d69-8dd1-584a74166f8b"
      },
      "source": [
        "# your code here\n",
        "# Please label the axes and give a title to the plot\n",
        "# Could have used poisson.pmf(k,u) instead, but the exercise above mentioned the factorial, therefore used the formula\n",
        "x = np.arange(0,10)\n",
        "dist_0_10 = [(((2.3**i) * math.exp(-2.3))/math.factorial(i)) for i in x]\n",
        "\n",
        "fig, ax = plt.subplots(1, 1)\n",
        "ax.plot(x, dist_0_10, ms=1, label='poisson pmf')\n",
        "#Plot axis vertical lines\n",
        "ax.vlines(x, 0, dist_0_10)\n",
        "plt.xlabel('Number of Goals')\n",
        "plt.ylabel('Probability')"
      ],
      "execution_count": null,
      "outputs": [
        {
          "output_type": "execute_result",
          "data": {
            "text/plain": [
              "Text(0, 0.5, 'Probability')"
            ]
          },
          "metadata": {
            "tags": []
          },
          "execution_count": 51
        },
        {
          "output_type": "display_data",
          "data": {
            "image/png": "[encoded data removed]",
            "text/plain": [
              "<Figure size 432x288 with 1 Axes>"
            ]
          },
          "metadata": {
            "tags": [],
            "needs_background": "light"
          }
        }
      ]
    }
  ]
}