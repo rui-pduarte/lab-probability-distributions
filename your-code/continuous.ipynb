{
  "nbformat": 4,
  "nbformat_minor": 0,
  "metadata": {
    "kernelspec": {
      "display_name": "Python 3",
      "language": "python",
      "name": "python3"
    },
    "language_info": {
      "codemirror_mode": {
        "name": "ipython",
        "version": 3
      },
      "file_extension": ".py",
      "mimetype": "text/x-python",
      "name": "python",
      "nbconvert_exporter": "python",
      "pygments_lexer": "ipython3",
      "version": "3.7.3"
    },
    "colab": {
      "name": "continuous.ipynb",
      "provenance": [],
      "collapsed_sections": []
    }
  },
  "cells": [
    {
      "cell_type": "code",
      "metadata": {
        "id": "Yk1_RALeZlzq"
      },
      "source": [
        "from scipy.stats import uniform\r\n",
        "from scipy.stats import norm\r\n",
        "from scipy.stats import expon \r\n",
        "import matplotlib.pyplot as plt\r\n",
        "import pandas as pd\r\n",
        "import seaborn as sns\r\n",
        "import numpy as np\r\n",
        "import math\r\n",
        "import random"
      ],
      "execution_count": null,
      "outputs": []
    },
    {
      "cell_type": "markdown",
      "metadata": {
        "id": "ML5pGF2ZFQVn"
      },
      "source": [
        "# Before your start:\n",
        "\n",
        "    Read the README.md file\n",
        "    Comment as much as you can and use the resources (README.md file)\n",
        "    Happy learning!"
      ]
    },
    {
      "cell_type": "markdown",
      "metadata": {
        "id": "rTN2ov5hFQVo"
      },
      "source": [
        "In this exercise, we  will generate random numbers from the continuous disributions we learned in the lesson. There are two ways to generate random numbers:\n",
        "\n",
        "1. Using the numpy library \n",
        "1. using the Scipy library \n",
        "\n",
        "Use either or both of the lbraries in this exercise."
      ]
    },
    {
      "cell_type": "markdown",
      "metadata": {
        "id": "Ye52QEDZFQVp"
      },
      "source": [
        "## Uniform Distribution\n",
        "\n",
        "To generate uniform random numbers between any two given values using scipy, we can either use the following code or the code that we have\n",
        "discussed in class:"
      ]
    },
    {
      "cell_type": "code",
      "metadata": {
        "id": "txiSMj14FQVp",
        "colab": {
          "base_uri": "https://localhost:8080/"
        },
        "outputId": "95da1a34-e6b0-40e0-f502-9163c9caf0f8"
      },
      "source": [
        "x = uniform.rvs(size=10)\n",
        "a = 2\n",
        "b = 3\n",
        "randoms  = a + (b-a)*x\n",
        "print(randoms)"
      ],
      "execution_count": null,
      "outputs": [
        {
          "output_type": "stream",
          "text": [
            "[2.37024416 2.07862221 2.21369026 2.98042694 2.2071363  2.40285168\n",
            " 2.06615109 2.57453355 2.93625047 2.53867094]\n"
          ],
          "name": "stdout"
        }
      ]
    },
    {
      "cell_type": "markdown",
      "metadata": {
        "id": "8Aq4avwxFQVq"
      },
      "source": [
        "**Your task:**\n",
        "\n",
        "1. Based on the code above, write a function that generates uniformly distributed random numbers. There are several requirements for your function:\n",
        "    * It should accept 3 parameters: \n",
        "        * `bottom` - the lower boundary of the generated numbers\n",
        "        * `ceiling` - the upper boundary of the generated numbers\n",
        "        * `count` - how many numbers to generate\n",
        "    * It should return an array of uniformly distributed random numbers\n",
        "\n",
        "1. Call your function with 2 sets of params below:\n",
        "    * bottom=10, ceiling=15, count=100\n",
        "    * bottom=10, ceiling=60, count=1,000\n",
        "\n",
        "1. Plot the uniform distributions generated above using histograms, where x axis is the value and y axis is the count. Let the histogram's number of bins be 10.\n",
        "\n",
        "Your output should look like below:\n",
        "\n",
        "![uniform distribution](ud.png)"
      ]
    },
    {
      "cell_type": "code",
      "metadata": {
        "id": "G9dJnioxFQVq",
        "colab": {
          "base_uri": "https://localhost:8080/",
          "height": 386
        },
        "outputId": "45436e5a-75dc-4c6a-c445-1d9e0cf18976"
      },
      "source": [
        "# your code here\n",
        "def unif_gen(k,b,a):\n",
        "  import random\n",
        "  list_normalised_uni_rnds = [random.random() for i in range(k)]\n",
        "  return [(a + (b-a)*element) for element in list_normalised_uni_rnds]\n",
        "\n",
        "count = 100\n",
        "a, b, bin_size = 10, 15, 10\n",
        "s = (b-a)/bin_size\n",
        "\n",
        "x = pd.Series(unif_gen(count,b,a), name=\"X\")\n",
        "mybins = np.arange(a,b+1,s)\n",
        "sns.displot(x, bins = mybins)"
      ],
      "execution_count": null,
      "outputs": [
        {
          "output_type": "execute_result",
          "data": {
            "text/plain": [
              "<seaborn.axisgrid.FacetGrid at 0x7f5e7e0920b8>"
            ]
          },
          "metadata": {
            "tags": []
          },
          "execution_count": 52
        },
        {
          "output_type": "display_data",
          "data": {
            "image/png": "[encoded data removed]",
            "text/plain": [
              "<Figure size 360x360 with 1 Axes>"
            ]
          },
          "metadata": {
            "tags": [],
            "needs_background": "light"
          }
        }
      ]
    },
    {
      "cell_type": "code",
      "metadata": {
        "colab": {
          "base_uri": "https://localhost:8080/",
          "height": 386
        },
        "id": "ED39auYYgz6X",
        "outputId": "a989820c-1a47-4f1f-d2f2-81844c30dbf9"
      },
      "source": [
        "count = 1000\r\n",
        "a, b, bin_size = 10, 60, 10\r\n",
        "s = (b-a)/bin_size\r\n",
        "mybins = np.arange(a,b+1,s)\r\n",
        "\r\n",
        "x = pd.Series(unif_gen(count,b,a), name=\"X\")\r\n",
        "sns.displot(x, bins = mybins)"
      ],
      "execution_count": null,
      "outputs": [
        {
          "output_type": "execute_result",
          "data": {
            "text/plain": [
              "<seaborn.axisgrid.FacetGrid at 0x7f5e7e57cb00>"
            ]
          },
          "metadata": {
            "tags": []
          },
          "execution_count": 47
        },
        {
          "output_type": "display_data",
          "data": {
            "image/png": "[encoded data removed]",
            "text/plain": [
              "<Figure size 360x360 with 1 Axes>"
            ]
          },
          "metadata": {
            "tags": [],
            "needs_background": "light"
          }
        }
      ]
    },
    {
      "cell_type": "markdown",
      "metadata": {
        "id": "MIttQhQyFQVr"
      },
      "source": [
        "How are the two distributions different?"
      ]
    },
    {
      "cell_type": "code",
      "metadata": {
        "id": "V9htzk7bFQVr"
      },
      "source": [
        "# your answer here:\n",
        "'''\n",
        "Naturally that the scale is different...\n",
        "But most important, the second one, having more observations in the same amount of buckets,\n",
        "Has more similar count in each bar.\n",
        "Tending to infinity all bars would be the same size.\n",
        "'''"
      ],
      "execution_count": null,
      "outputs": []
    },
    {
      "cell_type": "markdown",
      "metadata": {
        "id": "i45PLUcSFQVr"
      },
      "source": [
        "## Normal Distribution\n",
        "\n",
        "1. In the same way in the Uniform Distribution challenge, write a function that generates normally distributed random numbers.\n",
        "1. Generate 1,000 normally distributed numbers with the average of 10 and standard deviation of 1\n",
        "1. Generate 1,000 normally distributed numbers with the average of 10 and standard deviation of 50\n",
        "2. Plot the distributions of the data generated.\n",
        "\n",
        "Expected output:\n",
        "\n",
        "![normal distribution](nd.png)"
      ]
    },
    {
      "cell_type": "code",
      "metadata": {
        "id": "UCwtQQ3oFQVr",
        "colab": {
          "base_uri": "https://localhost:8080/",
          "height": 386
        },
        "outputId": "f5ff6fc3-6230-4179-9f38-c4cbc711e55e"
      },
      "source": [
        "# your code here\n",
        "def norm_gen(k,mean,st_dev):\n",
        "  import numpy as np\n",
        "  list_normalised_norm_rnds = [np.random.normal() for i in range(k)]\n",
        "  return [(mean + st_dev*element) for element in list_normalised_norm_rnds]\n",
        "\n",
        "count = 1000\n",
        "mean, st_dev = 10, 1\n",
        "\n",
        "x = pd.Series(norm_gen(count,mean,st_dev), name=\"X\")\n",
        "sns.displot(x)"
      ],
      "execution_count": null,
      "outputs": [
        {
          "output_type": "execute_result",
          "data": {
            "text/plain": [
              "<seaborn.axisgrid.FacetGrid at 0x7f9c698341d0>"
            ]
          },
          "metadata": {
            "tags": []
          },
          "execution_count": 45
        },
        {
          "output_type": "display_data",
          "data": {
            "image/png": "[encoded data removed]",
            "text/plain": [
              "<Figure size 360x360 with 1 Axes>"
            ]
          },
          "metadata": {
            "tags": [],
            "needs_background": "light"
          }
        }
      ]
    },
    {
      "cell_type": "code",
      "metadata": {
        "colab": {
          "base_uri": "https://localhost:8080/",
          "height": 386
        },
        "id": "a_xKVUPUo4z2",
        "outputId": "44b954be-ab9c-417d-93d9-daa1c4e110d9"
      },
      "source": [
        "count = 1000\r\n",
        "mean, st_dev = 10, 50\r\n",
        "\r\n",
        "x = pd.Series(norm_gen(count,mean,st_dev), name=\"X\")\r\n",
        "sns.displot(x)"
      ],
      "execution_count": null,
      "outputs": [
        {
          "output_type": "execute_result",
          "data": {
            "text/plain": [
              "<seaborn.axisgrid.FacetGrid at 0x7f5e7dd68828>"
            ]
          },
          "metadata": {
            "tags": []
          },
          "execution_count": 61
        },
        {
          "output_type": "display_data",
          "data": {
            "image/png": "[encoded data removed]",
            "text/plain": [
              "<Figure size 360x360 with 1 Axes>"
            ]
          },
          "metadata": {
            "tags": [],
            "needs_background": "light"
          }
        }
      ]
    },
    {
      "cell_type": "markdown",
      "metadata": {
        "id": "0eyUHQDRFQVs"
      },
      "source": [
        "How are the two distributions different?"
      ]
    },
    {
      "cell_type": "code",
      "metadata": {
        "id": "IGeaneHFFQVs",
        "colab": {
          "base_uri": "https://localhost:8080/",
          "height": 69
        },
        "outputId": "25e017e2-220f-4141-87fb-50cf67ae7e01"
      },
      "source": [
        "# your answer here:\n",
        "'''\n",
        "The values that x assumes are drastically different because of the std difference.\n",
        "In the first they are more or less around 7 and 14 ...\n",
        "In the second ~ -150 and 200 ish.\n",
        "They are still centered around the same mean of 10.\n",
        "'''"
      ],
      "execution_count": null,
      "outputs": [
        {
          "output_type": "execute_result",
          "data": {
            "application/vnd.google.colaboratory.intrinsic+json": {
              "type": "string"
            },
            "text/plain": [
              "'\\nThe values that x assumes are drastically different because of the std difference.\\nIn the first they are more or less around 7 and 14 ...\\nIn the second ~ -150 and 200 ish.\\nThey are still centered around the same mean of 10.\\n'"
            ]
          },
          "metadata": {
            "tags": []
          },
          "execution_count": 62
        }
      ]
    },
    {
      "cell_type": "markdown",
      "metadata": {
        "id": "IvXJFzXWFQVs"
      },
      "source": [
        "## Normal Distribution of Real Data\n",
        "\n",
        "In this challenge we are going to take a look the real data. We will use vehicles.csv file for this exercise"
      ]
    },
    {
      "cell_type": "code",
      "metadata": {
        "id": "6f4_gfUvFQVt"
      },
      "source": [
        "# your code here\n",
        "DF = pd.read_csv('https://raw.githubusercontent.com/rui-pduarte/lab-probability-distributions/master/your-code/vehicles.csv')"
      ],
      "execution_count": 114,
      "outputs": []
    },
    {
      "cell_type": "markdown",
      "metadata": {
        "id": "SZVEbJWHFQVs"
      },
      "source": [
        "First import vehicles.csv.\n",
        "Then plot the histograms for the following variables:\n",
        "\n",
        "1. Fuel Barrels/Year"
      ]
    },
    {
      "cell_type": "code",
      "metadata": {
        "colab": {
          "base_uri": "https://localhost:8080/",
          "height": 386
        },
        "id": "E1HdQVKefmqW",
        "outputId": "0d727b2f-f39b-4d98-cf47-24a89e6404dc"
      },
      "source": [
        "x = DF[['Fuel Barrels/Year']]\r\n",
        "\r\n",
        "# Treating bins just to get specify just bin_sizes\r\n",
        "x_min, x_max = float(x.min()), float(x.max())\r\n",
        "a, b, bin_size = x_min, x_max, 25\r\n",
        "s = (b-a)/bin_size\r\n",
        "mybins = np.arange(a,b+1,s)\r\n",
        "\r\n",
        "sns.displot(x, bins = mybins) # Not specifying the bins gets a less clear plot."
      ],
      "execution_count": null,
      "outputs": [
        {
          "output_type": "execute_result",
          "data": {
            "text/plain": [
              "<seaborn.axisgrid.FacetGrid at 0x7f9c6966ee48>"
            ]
          },
          "metadata": {
            "tags": []
          },
          "execution_count": 27
        },
        {
          "output_type": "display_data",
          "data": {
            "image/png": "[encoded data removed]",
            "text/plain": [
              "<Figure size 479.25x360 with 1 Axes>"
            ]
          },
          "metadata": {
            "tags": [],
            "needs_background": "light"
          }
        }
      ]
    },
    {
      "cell_type": "markdown",
      "metadata": {
        "id": "GacCmyctFQVt"
      },
      "source": [
        "2. CO2 Emission Grams/Mile "
      ]
    },
    {
      "cell_type": "code",
      "metadata": {
        "id": "X6gF24cCFQVt",
        "colab": {
          "base_uri": "https://localhost:8080/",
          "height": 386
        },
        "outputId": "1c7f097f-9227-49a1-cba2-9faec84e355d"
      },
      "source": [
        "# your code here\n",
        "x = DF[['CO2 Emission Grams/Mile']]\n",
        "\n",
        "# Treating bins just to get specify just bin_sizes\n",
        "x_min, x_max = float(x.min()), float(x.max())\n",
        "a, b, bin_size = x_min, x_max, 25\n",
        "s = (b-a)/bin_size\n",
        "mybins = np.arange(a,b+1,s)\n",
        "\n",
        "sns.displot(x, bins = mybins) # Not specifying the bins gets a less clear plot."
      ],
      "execution_count": null,
      "outputs": [
        {
          "output_type": "execute_result",
          "data": {
            "text/plain": [
              "<seaborn.axisgrid.FacetGrid at 0x7f9c692cb908>"
            ]
          },
          "metadata": {
            "tags": []
          },
          "execution_count": 28
        },
        {
          "output_type": "display_data",
          "data": {
            "image/png": "[encoded data removed]",
            "text/plain": [
              "<Figure size 524.5x360 with 1 Axes>"
            ]
          },
          "metadata": {
            "tags": [],
            "needs_background": "light"
          }
        }
      ]
    },
    {
      "cell_type": "markdown",
      "metadata": {
        "id": "WcYgbJqLFQVt"
      },
      "source": [
        "3. Combined MPG"
      ]
    },
    {
      "cell_type": "code",
      "metadata": {
        "id": "H59I0W1XFQVu",
        "colab": {
          "base_uri": "https://localhost:8080/",
          "height": 387
        },
        "outputId": "df5a22ef-f047-4dac-bd87-6fcf02619425"
      },
      "source": [
        "# your code here\n",
        "x = DF[['Combined MPG']]\n",
        "\n",
        "# Treating bins just to get specify just bin_sizes\n",
        "x_min, x_max = float(x.min()), float(x.max())\n",
        "a, b, bin_size = x_min, x_max, 25\n",
        "s = (b-a)/bin_size\n",
        "mybins = np.arange(a,b+1,s)\n",
        "\n",
        "sns.displot(x, bins = mybins) # Not specifying the bins gets a less clear plot."
      ],
      "execution_count": null,
      "outputs": [
        {
          "output_type": "execute_result",
          "data": {
            "text/plain": [
              "<seaborn.axisgrid.FacetGrid at 0x7f9c8af88978>"
            ]
          },
          "metadata": {
            "tags": []
          },
          "execution_count": 29
        },
        {
          "output_type": "display_data",
          "data": {
            "image/png": "[encoded data removed]",
            "text/plain": [
              "<Figure size 472x360 with 1 Axes>"
            ]
          },
          "metadata": {
            "tags": [],
            "needs_background": "light"
          }
        }
      ]
    },
    {
      "cell_type": "markdown",
      "metadata": {
        "id": "5DPFc5C1FQVu"
      },
      "source": [
        "Which one(s) of the variables are nearly normally distributed? How do you know?"
      ]
    },
    {
      "cell_type": "code",
      "metadata": {
        "id": "V6-9Jv3eFQVu"
      },
      "source": [
        "# you answer here:\n",
        "'''\n",
        "Honestly, none.\n",
        "If I had to choose one which is particularly not normal that would be the third one.\n",
        "It is way too skewed to the left. The other are not normal either...\n",
        "In addition to this intuition I will: \n",
        " i) compare one of the series with a normal generated data\n",
        " ii) do two statistical tests of normality.\n",
        "'''"
      ],
      "execution_count": null,
      "outputs": []
    },
    {
      "cell_type": "code",
      "metadata": {
        "colab": {
          "base_uri": "https://localhost:8080/",
          "height": 753
        },
        "id": "CiZ8IRbqr7ka",
        "outputId": "81a8d9b9-fe52-45ae-9cd8-565981c4ccd6"
      },
      "source": [
        "X = DF[['Fuel Barrels/Year']]\r\n",
        "Y = pd.Series(norm_gen(len(X),DF['Fuel Barrels/Year'].mean(),DF['Fuel Barrels/Year'].std()), name=\"FBY_Norm_Sample_Gen\")\r\n",
        "\r\n",
        "# Treating bins just to get specify just bin_sizes\r\n",
        "X_min, X_max = float(X.min()), float(X.max())\r\n",
        "a, b, bin_size = X_min, X_max, 25\r\n",
        "s = (b-a)/bin_size\r\n",
        "mybins = np.arange(a,b+1,s)\r\n",
        "\r\n",
        "fig_1 = sns.displot(X, bins = mybins,color=\"r\",legend=False)\r\n",
        "plt.xlabel(\"Real Data\")\r\n",
        "plt.ylabel(\"Count\")\r\n",
        "plt.show(fig)\r\n",
        "fig_2 = sns.displot(Y, bins = mybins,color=\"skyblue\")\r\n",
        "plt.xlabel(\"Normal Data\")\r\n",
        "plt.ylabel(\"Count\")\r\n",
        "plt.show(fig)\r\n",
        "\r\n",
        "'''\r\n",
        "First plot a bit skewed to the left and high kurtosis.\r\n",
        "'''"
      ],
      "execution_count": 119,
      "outputs": [
        {
          "output_type": "display_data",
          "data": {
            "image/png": "[encoded data removed]",
            "text/plain": [
              "<Figure size 360x360 with 1 Axes>"
            ]
          },
          "metadata": {
            "tags": [],
            "needs_background": "light"
          }
        },
        {
          "output_type": "display_data",
          "data": {
            "image/png": "[encoded data removed]",
            "text/plain": [
              "<Figure size 360x360 with 1 Axes>"
            ]
          },
          "metadata": {
            "tags": [],
            "needs_background": "light"
          }
        },
        {
          "output_type": "execute_result",
          "data": {
            "application/vnd.google.colaboratory.intrinsic+json": {
              "type": "string"
            },
            "text/plain": [
              "'\\nFirst plot a bit skewed to the left and high kurtosis.\\n'"
            ]
          },
          "metadata": {
            "tags": []
          },
          "execution_count": 119
        }
      ]
    },
    {
      "cell_type": "code",
      "metadata": {
        "id": "y4SM38V5r_Rn",
        "colab": {
          "base_uri": "https://localhost:8080/",
          "height": 399
        },
        "outputId": "6808e926-0135-4ce6-d5a5-885b18364d92"
      },
      "source": [
        "def kolmogorov_smirnov_test_print(pandas_df,list_cols,alpha):\r\n",
        "  from scipy.stats import kstest\r\n",
        "  for i in list_cols:\r\n",
        "    normed_data=(pandas_df[i]-pandas_df[i].mean())/pandas_df[i].std()\r\n",
        "    stat, p = kstest(normed_data,'norm')\r\n",
        "    if p > alpha:\tprint(str(i) + ' looks normal (fail to reject H0)')\r\n",
        "    else:\tprint(str(i) + ' does not look normal (reject H0)')\r\n",
        "    print(\"Kolmogorov Smirnov's Test for \" + str(i) + ' Statistics=%.3f, p=%.3f' % (stat, p))\r\n",
        "    print(\"\")\r\n",
        "\r\n",
        "def shapiro_test_print(pandas_df,list_cols,alpha):\r\n",
        "  from scipy.stats import shapiro\r\n",
        "  for i in list_cols:\r\n",
        "    normed_data=(pandas_df[i]-pandas_df[i].mean())/pandas_df[i].std()\r\n",
        "    stat, p = shapiro(normed_data)\r\n",
        "    if p > alpha:\tprint(str(i) + ' looks normal (fail to reject H0)')\r\n",
        "    else:\tprint(str(i) + ' does not look normal (reject H0)')\r\n",
        "    print(\"Shapiro Wilk's Test for \" + str(i) + ' Statistics=%.3f, p=%.3f' % (stat, p))\r\n",
        "    print(\"\")\r\n",
        "\r\n",
        "cols = ['Fuel Barrels/Year','CO2 Emission Grams/Mile','Combined MPG']\r\n",
        "kolmogorov_smirnov_test_print(DF,cols,0.05)\r\n",
        "shapiro_test_print(DF,cols,0.05)\r\n",
        "\r\n",
        "'''\r\n",
        "None appears to be normal.\r\n",
        "'''"
      ],
      "execution_count": 86,
      "outputs": [
        {
          "output_type": "stream",
          "text": [
            "Fuel Barrels/Year does not look normal (reject H0)\n",
            "Kolmogorov Smirnov's Test for Fuel Barrels/Year Statistics=0.112, p=0.000\n",
            "\n",
            "CO2 Emission Grams/Mile does not look normal (reject H0)\n",
            "Kolmogorov Smirnov's Test for CO2 Emission Grams/Mile Statistics=0.108, p=0.000\n",
            "\n",
            "Combined MPG does not look normal (reject H0)\n",
            "Kolmogorov Smirnov's Test for Combined MPG Statistics=0.103, p=0.000\n",
            "\n",
            "Fuel Barrels/Year does not look normal (reject H0)\n",
            "Shapiro Wilk's Test for Fuel Barrels/Year Statistics=0.967, p=0.000\n",
            "\n",
            "CO2 Emission Grams/Mile does not look normal (reject H0)\n",
            "Shapiro Wilk's Test for CO2 Emission Grams/Mile Statistics=0.968, p=0.000\n",
            "\n",
            "Combined MPG does not look normal (reject H0)\n",
            "Shapiro Wilk's Test for Combined MPG Statistics=0.947, p=0.000\n",
            "\n"
          ],
          "name": "stdout"
        },
        {
          "output_type": "stream",
          "text": [
            "/usr/local/lib/python3.6/dist-packages/scipy/stats/morestats.py:1676: UserWarning: p-value may not be accurate for N > 5000.\n",
            "  warnings.warn(\"p-value may not be accurate for N > 5000.\")\n"
          ],
          "name": "stderr"
        },
        {
          "output_type": "execute_result",
          "data": {
            "application/vnd.google.colaboratory.intrinsic+json": {
              "type": "string"
            },
            "text/plain": [
              "'\\nNone appears to be normal.\\n'"
            ]
          },
          "metadata": {
            "tags": []
          },
          "execution_count": 86
        }
      ]
    },
    {
      "cell_type": "markdown",
      "metadata": {
        "id": "wWPN_tSbFQVu"
      },
      "source": [
        "## Exponential Distribution"
      ]
    },
    {
      "cell_type": "markdown",
      "metadata": {
        "id": "ZIH0S8a-FQVu"
      },
      "source": [
        "1. Using `numpy.random.exponential`, create a function that returns a list of numbers exponentially distributed with the mean of 10. \n",
        "\n",
        "1. Use the function to generate two number sequences with a mean of 1 and 100 and a size of 1000.\n",
        "\n",
        "1. Plot the distributions as histograms with the number of bins as 100.\n",
        "\n",
        "Your output should look like below:\n",
        "\n",
        "![exponential distribution](ed.png)"
      ]
    },
    {
      "cell_type": "code",
      "metadata": {
        "id": "SziCVL3eFQVv",
        "colab": {
          "base_uri": "https://localhost:8080/",
          "height": 775
        },
        "outputId": "c2578e2a-beef-4218-e2d1-8024fdafc0b9"
      },
      "source": [
        "# your code here\n",
        "# your code here\n",
        "def exp_gen(k, beta):\n",
        "  import numpy as np\n",
        "  return [np.random.exponential(beta) for i in range(k)]\n",
        "\n",
        "exp_mean_one = exp_gen(1000,1)\n",
        "exp_mean_hundred = exp_gen(1000,100)\n",
        "\n",
        "a, b, bin_size = min(exp_mean_one), max(exp_mean_one), 100\n",
        "s = (b-a)/bin_size\n",
        "mybins = np.arange(a,b+1,s)\n",
        "\n",
        "print(sum(exp_mean_one)/len(exp_mean_one))\n",
        "sns.displot(exp_mean_one, bins = mybins)\n",
        "\n",
        "a, b, bin_size = min(exp_mean_hundred), max(exp_mean_hundred), 100\n",
        "s = (b-a)/bin_size\n",
        "mybins = np.arange(a,b+1,s)\n",
        "\n",
        "print(sum(exp_mean_hundred)/len(exp_mean_hundred))\n",
        "sns.displot(exp_mean_hundred, bins = mybins)"
      ],
      "execution_count": 108,
      "outputs": [
        {
          "output_type": "stream",
          "text": [
            "1.0128499743435855\n",
            "99.85899930222803\n"
          ],
          "name": "stdout"
        },
        {
          "output_type": "execute_result",
          "data": {
            "text/plain": [
              "<seaborn.axisgrid.FacetGrid at 0x7f9c67618fd0>"
            ]
          },
          "metadata": {
            "tags": []
          },
          "execution_count": 108
        },
        {
          "output_type": "display_data",
          "data": {
            "image/png": "[encoded data removed]",
            "text/plain": [
              "<Figure size 360x360 with 1 Axes>"
            ]
          },
          "metadata": {
            "tags": [],
            "needs_background": "light"
          }
        },
        {
          "output_type": "display_data",
          "data": {
            "image/png": "[encoded data removed]",
            "text/plain": [
              "<Figure size 360x360 with 1 Axes>"
            ]
          },
          "metadata": {
            "tags": [],
            "needs_background": "light"
          }
        }
      ]
    },
    {
      "cell_type": "markdown",
      "metadata": {
        "id": "D-AX5WHZFQVv"
      },
      "source": [
        "How are the two distributions different?"
      ]
    },
    {
      "cell_type": "code",
      "metadata": {
        "id": "p3NdKBtYFQVv"
      },
      "source": [
        "# your answer here:\n",
        "'''\n",
        "The have are scaled differently.\n",
        "Have diferent means. The mean (beta, also 1/lambda) is the sole characterising moment of the exponential distribution.\n",
        "So a change in this parameter scales it.\n",
        "'''"
      ],
      "execution_count": null,
      "outputs": []
    },
    {
      "cell_type": "markdown",
      "metadata": {
        "id": "BNWTAqBUFQVv"
      },
      "source": [
        "## Exponential Distribution of Real Data\n",
        "\n",
        "Suppose that the amount of time one spends in a bank is exponentially distributed with mean as 10 minutes (i.e. λ = 1/10). What is the probability that a customer will spend less than fifteen minutes in the bank? \n",
        "\n",
        "Write a code in python to solve this problem"
      ]
    },
    {
      "cell_type": "code",
      "metadata": {
        "id": "QKfU-OXSFQVv",
        "colab": {
          "base_uri": "https://localhost:8080/"
        },
        "outputId": "a3255f6d-c790-4910-b19b-91745f4a2a3d"
      },
      "source": [
        "# your answer here\n",
        "# Hint: This is same as saying P(x<15)\n",
        "\n",
        "def my_exp_cdf(x,beta_param):\n",
        "  if x < 0:\n",
        "    return 0\n",
        "  else:\n",
        "    return 1 - math.exp((-1/beta_param)*x)\n",
        "\n",
        "my_exp_cdf(15,10)"
      ],
      "execution_count": 112,
      "outputs": [
        {
          "output_type": "execute_result",
          "data": {
            "text/plain": [
              "0.7768698398515702"
            ]
          },
          "metadata": {
            "tags": []
          },
          "execution_count": 112
        }
      ]
    },
    {
      "cell_type": "markdown",
      "metadata": {
        "id": "TqCeMK7ZFQVw"
      },
      "source": [
        "What is the probability that the customer will spend more than 15 minutes"
      ]
    },
    {
      "cell_type": "code",
      "metadata": {
        "id": "B1lXi-AAFQVw",
        "colab": {
          "base_uri": "https://localhost:8080/"
        },
        "outputId": "9e9b741e-67f8-41ee-b076-7706f12ec744"
      },
      "source": [
        "# your answer here\n",
        "1 - my_exp_cdf(15,10)"
      ],
      "execution_count": 113,
      "outputs": [
        {
          "output_type": "execute_result",
          "data": {
            "text/plain": [
              "0.2231301601484298"
            ]
          },
          "metadata": {
            "tags": []
          },
          "execution_count": 113
        }
      ]
    }
  ]
}